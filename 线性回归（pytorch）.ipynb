{
 "cells": [
  {
   "cell_type": "code",
   "execution_count": null,
   "id": "a259c8f1",
   "metadata": {},
   "outputs": [],
   "source": [
    "import torch\n",
    "import numpy as np\n",
    "from torch.distributions import multinomial\n",
    "from d2l import torch as d2l"
   ]
  },
  {
   "cell_type": "code",
   "execution_count": null,
   "id": "eb2994ef",
   "metadata": {},
   "outputs": [],
   "source": [
    "%matplotlib inline\n",
    "import random\n",
    "import torch\n",
    "from d2l import torch as d2l"
   ]
  },
  {
   "cell_type": "code",
   "execution_count": null,
   "id": "7a77ac58",
   "metadata": {},
   "outputs": [],
   "source": [
    "def make_data(w, b, num):\n",
    "    X = torch.normal(0, 1, (num, len(w)))\n",
    "    y = torch.matmul(X, w) + b\n",
    "    y += torch.normal(0, 1, y.shape)\n",
    "    return X, y.reshape(-1,1)"
   ]
  },
  {
   "cell_type": "code",
   "execution_count": null,
   "id": "014e5010",
   "metadata": {},
   "outputs": [],
   "source": [
    "true_w = torch.tensor([2.0, -3.4])\n",
    "true_b = 4.2\n",
    "features, label = make_data(true_w, true_b, 1000)"
   ]
  },
  {
   "cell_type": "code",
   "execution_count": null,
   "id": "6f8a9b71",
   "metadata": {},
   "outputs": [],
   "source": [
    "print('features:', features[0], '\\nlabel:', label[0])"
   ]
  },
  {
   "cell_type": "code",
   "execution_count": null,
   "id": "bd0d8d82",
   "metadata": {},
   "outputs": [],
   "source": [
    "d2l.set_figsize()\n",
    "d2l.plt.scatter(features[:, (1)].detach().numpy(), label.detach().numpy(), 1)"
   ]
  },
  {
   "cell_type": "code",
   "execution_count": null,
   "id": "cdff0d8e",
   "metadata": {},
   "outputs": [],
   "source": [
    "def data_iter(batch_size, features, lebal):\n",
    "    num = len(features)\n",
    "    indices = list(range(num))\n",
    "    random.shuffle(indices)\n",
    "    for i in range(0, num, batch_size):\n",
    "        bat = torch.tensor(indices[i: min(i + batch_size, num)])\n",
    "        yield features[bat], label[bat]"
   ]
  },
  {
   "cell_type": "code",
   "execution_count": null,
   "id": "148b8ab5",
   "metadata": {},
   "outputs": [],
   "source": [
    "batch_size = 4\n",
    "\n",
    "for X, y in data_iter(batch_size, features, label):\n",
    "    print(X, '\\n', y)\n",
    "    break"
   ]
  },
  {
   "cell_type": "code",
   "execution_count": null,
   "id": "811d76d0",
   "metadata": {},
   "outputs": [],
   "source": [
    "w = torch.normal(0, 0.01, size=(2, 1), requires_grad=True)\n",
    "b = torch.zeros(1, requires_grad=True)"
   ]
  },
  {
   "cell_type": "code",
   "execution_count": null,
   "id": "81c9e071",
   "metadata": {},
   "outputs": [],
   "source": [
    "def linreg(X, w, b):\n",
    "    return torch.matmul(X, w) + b\n",
    "\n",
    "def squared_loss(y_hat, y):\n",
    "    return (y_hat - y.reshape(y_hat.shape)) ** 2 / 2\n",
    "\n",
    "def sgd(params, lr, batch_size):\n",
    "    with torch.no_grad():\n",
    "        for param in params:\n",
    "            param -= lr * param.grad / batch_size\n",
    "            param.grad.zero_()"
   ]
  },
  {
   "cell_type": "code",
   "execution_count": null,
   "id": "d546e0b4",
   "metadata": {},
   "outputs": [],
   "source": [
    "lr = 0.01\n",
    "epochs = 3\n",
    "net = linreg\n",
    "loss = squared_loss\n",
    "\n",
    "for epoch in range(epochs):\n",
    "    for X, y in data_iter(batch_size, features, label):\n",
    "        l = loss(net(X, w, b), y)\n",
    "        l.sum().backward()\n",
    "        sgd([w, b], lr, batch_size)\n",
    "    with torch.no_grad():\n",
    "        train_l = loss(net(features, w, b), label)\n",
    "        print(f'epoch {epoch + 1}, loss {float(train_l.mean()):f}')"
   ]
  },
  {
   "cell_type": "code",
   "execution_count": null,
   "id": "69ee98aa",
   "metadata": {},
   "outputs": [],
   "source": [
    "w,b"
   ]
  },
  {
   "cell_type": "code",
   "execution_count": null,
   "id": "7b34fc79",
   "metadata": {},
   "outputs": [],
   "source": [
    "print(f'w的估计误差: {true_w - w.reshape(true_w.shape)}')\n",
    "print(f'b的估计误差: {true_b - b}')"
   ]
  },
  {
   "cell_type": "markdown",
   "id": "a0bc9346",
   "metadata": {},
   "source": [
    "## 线性回归欧姆定律 U=IR"
   ]
  },
  {
   "cell_type": "code",
   "execution_count": null,
   "id": "ac49e3da",
   "metadata": {},
   "outputs": [],
   "source": [
    "R = torch.tensor([5]).reshape(1,1)\n",
    "R"
   ]
  },
  {
   "cell_type": "code",
   "execution_count": null,
   "id": "9ec66ab6",
   "metadata": {},
   "outputs": [],
   "source": [
    "I = torch.arange(0,1,0.01).reshape(-1,1) # n*1\n",
    "true_R = 2 #1*1\n",
    "U = I * true_R\n",
    "U += torch.normal(0, 0.01, U.shape)"
   ]
  },
  {
   "cell_type": "code",
   "execution_count": null,
   "id": "54c13366",
   "metadata": {},
   "outputs": [],
   "source": [
    "d2l.plt.scatter(I[:, (0)].detach().numpy(), U.detach().numpy(), 1)"
   ]
  },
  {
   "cell_type": "code",
   "execution_count": null,
   "id": "f19d6a5c",
   "metadata": {},
   "outputs": [],
   "source": [
    "r = torch.tensor(3.0, requires_grad=True)\n",
    "r"
   ]
  },
  {
   "cell_type": "code",
   "execution_count": null,
   "id": "d08e3754",
   "metadata": {},
   "outputs": [],
   "source": [
    "def Ohm(I, R):\n",
    "    return I * R"
   ]
  },
  {
   "cell_type": "code",
   "execution_count": null,
   "id": "6c24052c",
   "metadata": {},
   "outputs": [],
   "source": [
    "\n",
    "u = Ohm(I,r)\n",
    "l = loss(u, U)\n",
    "l.sum().backward()\n",
    "# r.grad.zero_()\n",
    "r.grad"
   ]
  },
  {
   "cell_type": "code",
   "execution_count": null,
   "id": "1c235bec",
   "metadata": {},
   "outputs": [],
   "source": [
    "lr = 0.003\n",
    "epochs = 3\n",
    "batch_size = 4\n",
    "net = Ohm\n",
    "loss = squared_loss\n",
    "\n",
    "for epoch in range(epochs):\n",
    "    for X, y in data_iter(batch_size, I, U):\n",
    "        l = loss(net(I, r), U)\n",
    "        l.sum().backward()\n",
    "        sgd([r], lr, batch_size)\n",
    "    with torch.no_grad():\n",
    "        train_l = loss(net(I, r), U)\n",
    "        print(f'epoch {epoch + 1}, loss {float(train_l.mean()):f}')"
   ]
  },
  {
   "cell_type": "code",
   "execution_count": null,
   "id": "c5f5c254",
   "metadata": {},
   "outputs": [],
   "source": [
    "r"
   ]
  },
  {
   "cell_type": "markdown",
   "id": "3d441ec0",
   "metadata": {},
   "source": [
    "## 线性回归的简洁实现"
   ]
  },
  {
   "cell_type": "code",
   "execution_count": 147,
   "id": "f57062af",
   "metadata": {},
   "outputs": [],
   "source": [
    "import numpy as np\n",
    "import torch\n",
    "from torch.utils import data\n",
    "from d2l import torch as d2l\n",
    "\n",
    "true_w = torch.tensor([2, -3.4])\n",
    "true_b = 4.2\n",
    "features, labels = d2l.synthetic_data(true_w, true_b, 1000)"
   ]
  },
  {
   "cell_type": "code",
   "execution_count": 148,
   "id": "b24cacd8",
   "metadata": {},
   "outputs": [],
   "source": [
    "def load_array(data_array, batch_size, is_train=True):\n",
    "    dataset = data.TensorDataset(*data_array)\n",
    "    return data.DataLoader(dataset, batch_size, shuffle=is_train)\n",
    "\n",
    "batch_size = 10\n",
    "data_iter = load_array((features, labels), batch_size)"
   ]
  },
  {
   "cell_type": "code",
   "execution_count": 149,
   "id": "4fbeb367",
   "metadata": {},
   "outputs": [
    {
     "data": {
      "text/plain": [
       "[tensor([[ 0.1758,  0.0564],\n",
       "         [-0.6012,  1.4644],\n",
       "         [ 1.0681,  1.8295],\n",
       "         [ 0.7229, -1.3322],\n",
       "         [ 0.3579, -0.5269],\n",
       "         [-0.7895,  0.1846],\n",
       "         [-0.2601,  1.8263],\n",
       "         [-1.1942,  0.2848],\n",
       "         [ 0.5861,  1.2901],\n",
       "         [-0.4604,  0.3692]]),\n",
       " tensor([[ 4.3793],\n",
       "         [-1.9926],\n",
       "         [ 0.1032],\n",
       "         [10.1760],\n",
       "         [ 6.6868],\n",
       "         [ 1.9843],\n",
       "         [-2.5270],\n",
       "         [ 0.8330],\n",
       "         [ 0.9873],\n",
       "         [ 2.0053]])]"
      ]
     },
     "execution_count": 149,
     "metadata": {},
     "output_type": "execute_result"
    }
   ],
   "source": [
    "next(iter(data_iter))"
   ]
  },
  {
   "cell_type": "code",
   "execution_count": 150,
   "id": "5042d996",
   "metadata": {},
   "outputs": [],
   "source": [
    "from torch import nn\n",
    "\n",
    "net = nn.Sequential(nn.Linear(2, 1))\n",
    "\n",
    "net[0].weight.data.normal_(0, 0.01)\n",
    "net[0].bias.data.fill_(0)\n",
    "\n",
    "loss = nn.MSELoss()"
   ]
  },
  {
   "cell_type": "code",
   "execution_count": 151,
   "id": "48a89438",
   "metadata": {},
   "outputs": [
    {
     "data": {
      "text/plain": [
       "SGD (\n",
       "Parameter Group 0\n",
       "    dampening: 0\n",
       "    lr: 0.03\n",
       "    maximize: False\n",
       "    momentum: 0\n",
       "    nesterov: False\n",
       "    weight_decay: 0\n",
       ")"
      ]
     },
     "execution_count": 151,
     "metadata": {},
     "output_type": "execute_result"
    }
   ],
   "source": [
    "trainer = torch.optim.SGD(net.parameters(), lr=0.03)\n",
    "trainer"
   ]
  },
  {
   "cell_type": "code",
   "execution_count": 153,
   "id": "6c67e988",
   "metadata": {},
   "outputs": [
    {
     "name": "stdout",
     "output_type": "stream",
     "text": [
      "epoch 1, loss 0.000093\n",
      "epoch 2, loss 0.000093\n",
      "epoch 3, loss 0.000094\n"
     ]
    }
   ],
   "source": [
    "num_epochs = 3\n",
    "for epoch in range(num_epochs):\n",
    "    for X, y in data_iter:\n",
    "        l = loss(net(X) ,y)\n",
    "        trainer.zero_grad()\n",
    "        l.backward()\n",
    "        trainer.step()\n",
    "    l = loss(net(features), labels)\n",
    "    print(f'epoch {epoch + 1}, loss {l:f}')"
   ]
  },
  {
   "cell_type": "code",
   "execution_count": 155,
   "id": "e04e9e92",
   "metadata": {},
   "outputs": [
    {
     "data": {
      "text/plain": [
       "(tensor([[ 2.0002, -3.3989]]), tensor([4.2001]))"
      ]
     },
     "execution_count": 155,
     "metadata": {},
     "output_type": "execute_result"
    }
   ],
   "source": [
    "w = net[0].weight.data\n",
    "b = net[0].bias.data\n",
    "w, b"
   ]
  }
 ],
 "metadata": {
  "kernelspec": {
   "display_name": "Python 3 (ipykernel)",
   "language": "python",
   "name": "python3"
  },
  "language_info": {
   "codemirror_mode": {
    "name": "ipython",
    "version": 3
   },
   "file_extension": ".py",
   "mimetype": "text/x-python",
   "name": "python",
   "nbconvert_exporter": "python",
   "pygments_lexer": "ipython3",
   "version": "3.8.13"
  }
 },
 "nbformat": 4,
 "nbformat_minor": 5
}
